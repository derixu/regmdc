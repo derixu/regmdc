{
 "cells": [
  {
   "cell_type": "code",
   "execution_count": 168,
   "id": "a7105238-00f8-431f-896e-8e89c6c29072",
   "metadata": {
    "tags": []
   },
   "outputs": [],
   "source": [
    "import numpy as np\n",
    "import pandas as pd\n",
    "import random\n",
    "import cvxpy as cp"
   ]
  },
  {
   "cell_type": "markdown",
   "id": "79c21eeb-e002-4515-b57d-3635061ac5f7",
   "metadata": {},
   "source": [
    "# Synthetic Dataset Generation"
   ]
  },
  {
   "cell_type": "markdown",
   "id": "2bde1818-bf6a-4548-9b91-178655b7c5d9",
   "metadata": {},
   "source": [
    "$f^*$: underlying function that determines response variable $\\theta$ based on explanatory variables $x_1, x_2, x_3$. Note that $x_3$ does not at all affect $\\theta$.\n",
    "\n",
    "$x_i$ values are each drawn from standard normal distribution. Our dataset is comprised of 100 datapoints.\n",
    "\n",
    "$y$ is our observed response variable, which is equal to our true response variable $\\theta$ with Gaussian random noise added."
   ]
  },
  {
   "cell_type": "code",
   "execution_count": 169,
   "id": "7d2a8510-e720-4ff1-8752-a9acbac24b4e",
   "metadata": {
    "tags": []
   },
   "outputs": [],
   "source": [
    "SEED = 42\n",
    "np.random.seed(SEED)\n",
    "random.seed(SEED)"
   ]
  },
  {
   "cell_type": "code",
   "execution_count": 170,
   "id": "eae183c3-7e63-4fa8-bfc2-1cebca41ba0b",
   "metadata": {
    "tags": []
   },
   "outputs": [],
   "source": [
    "def fstar(x):\n",
    "    return (\n",
    "    - max(x[1] - 0.25, 0) - max(x[2] - 0.25, 0)\n",
    "    - max(x[1] - 0.25, 0) * max(x[2] - 0.25, 0)\n",
    "    )"
   ]
  },
  {
   "cell_type": "code",
   "execution_count": 171,
   "id": "4dc53ea8-0fd7-43c8-a822-2cdb25b82c70",
   "metadata": {
    "tags": []
   },
   "outputs": [
    {
     "data": {
      "text/html": [
       "<div>\n",
       "<style scoped>\n",
       "    .dataframe tbody tr th:only-of-type {\n",
       "        vertical-align: middle;\n",
       "    }\n",
       "\n",
       "    .dataframe tbody tr th {\n",
       "        vertical-align: top;\n",
       "    }\n",
       "\n",
       "    .dataframe thead th {\n",
       "        text-align: right;\n",
       "    }\n",
       "</style>\n",
       "<table border=\"1\" class=\"dataframe\">\n",
       "  <thead>\n",
       "    <tr style=\"text-align: right;\">\n",
       "      <th></th>\n",
       "      <th>VarA</th>\n",
       "      <th>VarB</th>\n",
       "      <th>VarC</th>\n",
       "    </tr>\n",
       "  </thead>\n",
       "  <tbody>\n",
       "    <tr>\n",
       "      <th>0</th>\n",
       "      <td>0.374540</td>\n",
       "      <td>0.950714</td>\n",
       "      <td>0.731994</td>\n",
       "    </tr>\n",
       "    <tr>\n",
       "      <th>1</th>\n",
       "      <td>0.598658</td>\n",
       "      <td>0.156019</td>\n",
       "      <td>0.155995</td>\n",
       "    </tr>\n",
       "    <tr>\n",
       "      <th>2</th>\n",
       "      <td>0.058084</td>\n",
       "      <td>0.866176</td>\n",
       "      <td>0.601115</td>\n",
       "    </tr>\n",
       "    <tr>\n",
       "      <th>3</th>\n",
       "      <td>0.708073</td>\n",
       "      <td>0.020584</td>\n",
       "      <td>0.969910</td>\n",
       "    </tr>\n",
       "    <tr>\n",
       "      <th>4</th>\n",
       "      <td>0.832443</td>\n",
       "      <td>0.212339</td>\n",
       "      <td>0.181825</td>\n",
       "    </tr>\n",
       "  </tbody>\n",
       "</table>\n",
       "</div>"
      ],
      "text/plain": [
       "       VarA      VarB      VarC\n",
       "0  0.374540  0.950714  0.731994\n",
       "1  0.598658  0.156019  0.155995\n",
       "2  0.058084  0.866176  0.601115\n",
       "3  0.708073  0.020584  0.969910\n",
       "4  0.832443  0.212339  0.181825"
      ]
     },
     "execution_count": 171,
     "metadata": {},
     "output_type": "execute_result"
    }
   ],
   "source": [
    "X_design = pd.DataFrame(np.random.rand(100, 3), columns = [\"VarA\", \"VarB\", \"VarC\"])\n",
    "X_design.head()"
   ]
  },
  {
   "cell_type": "code",
   "execution_count": 172,
   "id": "be5a8235-c6b5-4dac-bef3-5d397deb88a0",
   "metadata": {
    "tags": []
   },
   "outputs": [
    {
     "data": {
      "text/plain": [
       "0   -1.520448\n",
       "1    0.000000\n",
       "2   -1.183640\n",
       "3   -0.719910\n",
       "4    0.000000\n",
       "dtype: float64"
      ]
     },
     "execution_count": 172,
     "metadata": {},
     "output_type": "execute_result"
    }
   ],
   "source": [
    "theta = X_design.apply(fstar, axis=1)\n",
    "theta.head()"
   ]
  },
  {
   "cell_type": "code",
   "execution_count": 173,
   "id": "f4ea631e-e2a9-4708-a3bc-a07de49f4f05",
   "metadata": {
    "tags": []
   },
   "outputs": [
    {
     "data": {
      "text/plain": [
       "0   -1.515891\n",
       "1   -0.065160\n",
       "2   -0.969245\n",
       "3   -0.656518\n",
       "4   -0.202514\n",
       "dtype: float64"
      ]
     },
     "execution_count": 173,
     "metadata": {},
     "output_type": "execute_result"
    }
   ],
   "source": [
    "sigma = 0.1\n",
    "y = theta + np.random.normal(scale=sigma, size=100)\n",
    "y.head()"
   ]
  },
  {
   "cell_type": "markdown",
   "id": "772e6cd1-5450-48c7-88f1-29c8b7fb3088",
   "metadata": {},
   "source": [
    "# ```get_unique_column_entries.R```"
   ]
  },
  {
   "cell_type": "code",
   "execution_count": 288,
   "id": "d6bb5e96-d849-4c03-92a2-6c50dd3e03cf",
   "metadata": {
    "tags": []
   },
   "outputs": [],
   "source": [
    "# TODO: add error handling\n",
    "# TODO: Pandas implementation\n",
    "\n",
    "def get_unique_column_entries(X_design, method='tcmars', number_of_bins=None):\n",
    "    '''\n",
    "    Currently only supports tcmars\n",
    "    \n",
    "    X_design: n x d numPy array or pandas DataFrame containing n datapoints with d features\n",
    "    number_of_bins: length d list or numPy array containing bin counts (ints) for each column of X_design\n",
    "    \n",
    "    More type restrictive than R version \n",
    "        - number_of_bins cannot be an integer, and incorrect lengths of number_of_bins is not handled\n",
    "        - if an element of number_of_bins is not an integer, fallback to default behavior (no bins).\n",
    "    '''\n",
    "    \n",
    "    if isinstance(X_design, pd.DataFrame):\n",
    "        X_design = X_design.values\n",
    "    \n",
    "    if method == 'tcmars':\n",
    "        if number_of_bins is None:\n",
    "            # list comprehension may be inefficient\n",
    "            # np.unique sorts by default\n",
    "            return [np.unique(np.append(0, X_design[:, i]))[:-1] for i in range(X_design.shape[1])]\n",
    "        else:\n",
    "            # for loop may be inefficient\n",
    "            column_unique = []\n",
    "            for i in range(X_design.shape[1]):\n",
    "                N = number_of_bins[i]\n",
    "                if N is None:\n",
    "                    column_unique.append(np.unique(np.append(0, X_design[:, i]))[:-1])\n",
    "                else:\n",
    "                    column_unique.append(np.array(np.arange(N))/N)\n",
    "            return column_unique\n",
    "    else:\n",
    "        raise ValueError(\"method must be tcmars\")"
   ]
  },
  {
   "cell_type": "markdown",
   "id": "204930e7-0eb0-4936-a667-d80f5018c98c",
   "metadata": {},
   "source": [
    "### Usage"
   ]
  },
  {
   "cell_type": "code",
   "execution_count": 289,
   "id": "12c05a8e-d948-46e0-80cd-186b27bbe9ee",
   "metadata": {
    "tags": []
   },
   "outputs": [
    {
     "data": {
      "text/plain": [
       "[array([0.        , 0.00552212, 0.01658783, 0.02431597, 0.03438852,\n",
       "        0.03594227, 0.03734819, 0.04077514, 0.05808361, 0.08413996,\n",
       "        0.09367477, 0.10789143, 0.11005192, 0.11959425, 0.11986537,\n",
       "        0.12706051, 0.13949386, 0.14092422, 0.16122129, 0.18340451,\n",
       "        0.18657006, 0.19524299, 0.19598286, 0.21582103, 0.22426931,\n",
       "        0.22879817, 0.24185229, 0.24398964, 0.24929223, 0.2517823 ,\n",
       "        0.28484049, 0.28654125, 0.30461377, 0.31098232, 0.31435598,\n",
       "        0.32320293, 0.3253997 , 0.34106635, 0.34920957, 0.35675333,\n",
       "        0.35846573, 0.3636296 , 0.3701587 , 0.37454012, 0.37558295,\n",
       "        0.38673535, 0.38867729, 0.42818415, 0.43194502, 0.44015249,\n",
       "        0.45606998, 0.48945276, 0.50263709, 0.50267902, 0.5107473 ,\n",
       "        0.51423444, 0.52273283, 0.54671028, 0.54873379, 0.55680126,\n",
       "        0.5612772 , 0.57006117, 0.59789998, 0.59865848, 0.60642906,\n",
       "        0.60754485, 0.62329813, 0.63340376, 0.63352971, 0.63755747,\n",
       "        0.64517279, 0.66252228, 0.66350177, 0.67213555, 0.70248408,\n",
       "        0.70807258, 0.72821635, 0.72900717, 0.77513282, 0.79579267,\n",
       "        0.79829518, 0.80744016, 0.80936116, 0.8172222 , 0.81801477,\n",
       "        0.83244264, 0.8353025 , 0.84922341, 0.85113667, 0.85300946,\n",
       "        0.87733935, 0.87737307, 0.88708642, 0.89204656, 0.90041806,\n",
       "        0.90826589, 0.91324055, 0.94045858, 0.94888554, 0.98688694]),\n",
       " array([0.        , 0.00506158, 0.00919705, 0.01545662, 0.02058449,\n",
       "        0.03142919, 0.03688695, 0.04522729, 0.05147875, 0.07697991,\n",
       "        0.09310277, 0.09398194, 0.09717649, 0.09767211, 0.11347352,\n",
       "        0.11586906, 0.12203823, 0.14008402, 0.15601864, 0.16162871,\n",
       "        0.17052412, 0.17436643, 0.18485446, 0.21233911, 0.22793516,\n",
       "        0.23956189, 0.25794163, 0.27134903, 0.28093451, 0.29122914,\n",
       "        0.29214465, 0.29444889, 0.30424224, 0.31171108, 0.31692201,\n",
       "        0.32078006, 0.32518332, 0.33089802, 0.33761517, 0.35949115,\n",
       "        0.3677158 , 0.36778313, 0.41038292, 0.417411  , 0.42754102,\n",
       "        0.46559802, 0.49724851, 0.50857069, 0.5113424 , 0.51209306,\n",
       "        0.51879062, 0.52224326, 0.53577468, 0.55520081, 0.57690388,\n",
       "        0.59083326, 0.59089294, 0.59241457, 0.62289048, 0.63113863,\n",
       "        0.63310146, 0.6454723 , 0.64996393, 0.65761289, 0.6918952 ,\n",
       "        0.71217922, 0.71324479, 0.72245212, 0.72595568, 0.74076862,\n",
       "        0.74649141, 0.76161962, 0.77096718, 0.77127035, 0.77224477,\n",
       "        0.77987555, 0.78517596, 0.80219698, 0.81011339, 0.81546143,\n",
       "        0.82260056, 0.86073058, 0.86617615, 0.87146059, 0.88721274,\n",
       "        0.89000534, 0.892559  , 0.8960913 , 0.9093204 , 0.92187424,\n",
       "        0.92969765, 0.93615477, 0.93672999, 0.93949894, 0.95071431,\n",
       "        0.95392858, 0.96563203, 0.96665482, 0.97178208, 0.97301055]),\n",
       " array([0.        , 0.00695213, 0.02541913, 0.03050025, 0.04645041,\n",
       "        0.06355835, 0.06505159, 0.07404465, 0.07455064, 0.08534746,\n",
       "        0.0884925 , 0.09028977, 0.10147154, 0.13752094, 0.14489487,\n",
       "        0.15599452, 0.16080805, 0.16949275, 0.17711068, 0.18182497,\n",
       "        0.18651851, 0.19871568, 0.19967378, 0.22210781, 0.22649578,\n",
       "        0.23724909, 0.23763754, 0.24205527, 0.25877998, 0.26520237,\n",
       "        0.27864646, 0.28077236, 0.28975145, 0.29359184, 0.30087831,\n",
       "        0.31800347, 0.32533033, 0.33799516, 0.33902979, 0.36019064,\n",
       "        0.36636184, 0.38509773, 0.39309772, 0.42710779, 0.47221493,\n",
       "        0.49251769, 0.4937956 , 0.49517691, 0.50151629, 0.51832965,\n",
       "        0.52006802, 0.52475643, 0.52965058, 0.53934224, 0.54264463,\n",
       "        0.54269608, 0.5683086 , 0.57828014, 0.60111501, 0.60956433,\n",
       "        0.61185289, 0.61500723, 0.63230583, 0.63641041, 0.64203165,\n",
       "        0.6496329 , 0.65196126, 0.65998405, 0.67756436, 0.68423303,\n",
       "        0.69093774, 0.6960298 , 0.69701574, 0.70196688, 0.70301896,\n",
       "        0.70685734, 0.72960618, 0.73199394, 0.75555114, 0.76078505,\n",
       "        0.76999355, 0.7948113 , 0.80367208, 0.80812038, 0.80839735,\n",
       "        0.82873751, 0.86310343, 0.86707232, 0.89482735, 0.89711026,\n",
       "        0.89721576, 0.89855419, 0.90756647, 0.91486439, 0.92469362,\n",
       "        0.92831856, 0.9429097 , 0.96244729, 0.96361998, 0.96958463])]"
      ]
     },
     "execution_count": 289,
     "metadata": {},
     "output_type": "execute_result"
    }
   ],
   "source": [
    "get_unique_column_entries(X_design.values)"
   ]
  },
  {
   "cell_type": "code",
   "execution_count": 290,
   "id": "321f2d8d-9245-4e2e-9fe7-978bc1431f88",
   "metadata": {
    "tags": []
   },
   "outputs": [
    {
     "data": {
      "text/plain": [
       "[array([0. , 0.1, 0.2, 0.3, 0.4, 0.5, 0.6, 0.7, 0.8, 0.9]),\n",
       " array([0. , 0.1, 0.2, 0.3, 0.4, 0.5, 0.6, 0.7, 0.8, 0.9]),\n",
       " array([0. , 0.1, 0.2, 0.3, 0.4, 0.5, 0.6, 0.7, 0.8, 0.9])]"
      ]
     },
     "execution_count": 290,
     "metadata": {},
     "output_type": "execute_result"
    }
   ],
   "source": [
    "get_unique_column_entries(X_design.values, number_of_bins=np.array([10, 10, 10]))"
   ]
  },
  {
   "cell_type": "code",
   "execution_count": 291,
   "id": "dc711b0f-57cb-4022-bd45-8fa28e351177",
   "metadata": {
    "tags": []
   },
   "outputs": [
    {
     "data": {
      "text/plain": [
       "[array([0. , 0.1, 0.2, 0.3, 0.4, 0.5, 0.6, 0.7, 0.8, 0.9]),\n",
       " array([0. , 0.1, 0.2, 0.3, 0.4, 0.5, 0.6, 0.7, 0.8, 0.9]),\n",
       " array([0.        , 0.00695213, 0.02541913, 0.03050025, 0.04645041,\n",
       "        0.06355835, 0.06505159, 0.07404465, 0.07455064, 0.08534746,\n",
       "        0.0884925 , 0.09028977, 0.10147154, 0.13752094, 0.14489487,\n",
       "        0.15599452, 0.16080805, 0.16949275, 0.17711068, 0.18182497,\n",
       "        0.18651851, 0.19871568, 0.19967378, 0.22210781, 0.22649578,\n",
       "        0.23724909, 0.23763754, 0.24205527, 0.25877998, 0.26520237,\n",
       "        0.27864646, 0.28077236, 0.28975145, 0.29359184, 0.30087831,\n",
       "        0.31800347, 0.32533033, 0.33799516, 0.33902979, 0.36019064,\n",
       "        0.36636184, 0.38509773, 0.39309772, 0.42710779, 0.47221493,\n",
       "        0.49251769, 0.4937956 , 0.49517691, 0.50151629, 0.51832965,\n",
       "        0.52006802, 0.52475643, 0.52965058, 0.53934224, 0.54264463,\n",
       "        0.54269608, 0.5683086 , 0.57828014, 0.60111501, 0.60956433,\n",
       "        0.61185289, 0.61500723, 0.63230583, 0.63641041, 0.64203165,\n",
       "        0.6496329 , 0.65196126, 0.65998405, 0.67756436, 0.68423303,\n",
       "        0.69093774, 0.6960298 , 0.69701574, 0.70196688, 0.70301896,\n",
       "        0.70685734, 0.72960618, 0.73199394, 0.75555114, 0.76078505,\n",
       "        0.76999355, 0.7948113 , 0.80367208, 0.80812038, 0.80839735,\n",
       "        0.82873751, 0.86310343, 0.86707232, 0.89482735, 0.89711026,\n",
       "        0.89721576, 0.89855419, 0.90756647, 0.91486439, 0.92469362,\n",
       "        0.92831856, 0.9429097 , 0.96244729, 0.96361998, 0.96958463])]"
      ]
     },
     "execution_count": 291,
     "metadata": {},
     "output_type": "execute_result"
    }
   ],
   "source": [
    "get_unique_column_entries(X_design.values, number_of_bins=np.array([10, 10, None]))"
   ]
  },
  {
   "cell_type": "markdown",
   "id": "a8ccf73b-1b84-45d5-b691-c61e8b612047",
   "metadata": {},
   "source": [
    "# ```get_lasso_matrix.R```"
   ]
  },
  {
   "cell_type": "code",
   "execution_count": 292,
   "id": "ab78f88d-994b-4543-9c57-5947f84e74dc",
   "metadata": {
    "tags": []
   },
   "outputs": [],
   "source": [
    "def compute_hinge(x):\n",
    "    return np.maximum(0, x)\n",
    "\n",
    "def scale_back_matrix_entry(entry, max_val, min_val, digits=4):\n",
    "    return format((max_val - min_val) * entry + min_val, f'.{digits}g')"
   ]
  },
  {
   "cell_type": "code",
   "execution_count": 294,
   "id": "4a9cd809-dd64-4a8a-ac7f-dfea5a719156",
   "metadata": {
    "tags": []
   },
   "outputs": [],
   "source": [
    "# TODO: Add Pandas wrapper\n",
    "\n",
    "def get_lasso_matrix_tcmars(X_eval,\n",
    "                            X_design,\n",
    "                            max_vals,\n",
    "                            min_vals,\n",
    "                            s=2,\n",
    "                            number_of_bins=None,\n",
    "                            concave_covariates=None,\n",
    "                            convex_covariates=None,\n",
    "                            variation_constrained_covariates=None,\n",
    "                            extra_linear_covariates=None,\n",
    "                            is_included_basis=None,\n",
    "                            colnames=None\n",
    "                            ):\n",
    "    '''\n",
    "    Solve for the matrix for the LASSO problem. This function only deals with NumPy based objects.\n",
    "    \n",
    "    X_eval: 2D numPy Array, each row corresponds to an individual evaluation point at which basis \n",
    "    functions are computed.\n",
    "    \n",
    "    X_design: 2D numPy Array, each row corresponds to an individual data point, from which \n",
    "    basis functions are constructed from this matrix, using values from X_design as knots\n",
    "    \n",
    "    max_vals: 1D numPy Array, array of maximal covariate values\n",
    "    \n",
    "    min_vals: 1D numPy Array, array of minimal covariate values\n",
    "    \n",
    "    s: int, maximum degree of interaction between covariates allowed\n",
    "    \n",
    "    number_of_bins: None OR 1D numPy Array, length equal to number of covariates, each element corresponds to\n",
    "    the number of bins used for approximate method for creating hinges on a specific covariate\n",
    "    \n",
    "    concave_covariates: None OR 1D numPy Array, each element is the column index corresponding to a covariate \n",
    "    that will be restricted to be concave\n",
    "    \n",
    "    convex_covariates=None: None OR 1D numPy Array, each element is the column index corresponding to a covariate \n",
    "    that will be restricted to be convex\n",
    "    \n",
    "    variation_constrained_covariates: None OR 1D numPy Array, each element is the column index corresponding \n",
    "    to a covariate that will be variation restricted\n",
    "    \n",
    "    extra_linear_covariates: None OR 1D numPy Array, each element is the column index corresponding to a covariate \n",
    "    that will be kept linear and not included in any hinges\n",
    "    \n",
    "    is_included_basis: None OR 1D numPy Array, length equal to the number of columns in the final LASSO matrix, \n",
    "    each element corresponding to an indicator for whether or not that column is included in the LASSO problem. \n",
    "    Primarily used when creating a new matrix to predict on using a trained MARS-via-LASSO model\n",
    "    \n",
    "    colnames: None or 1D numPy Array, length equal to the number of covariates in X_eval and X_design. \n",
    "    Used to label columns of the returned LASSO matrix. If not passed in, default colnames will be x1, x2, x3, ..., etc.\n",
    "    '''\n",
    "    \n",
    "    # We only drop bases if we have both concave and convex constraints on our bases\n",
    "    is_basis_drop_possible = concave_covariates is not None and convex_covariates is not None\n",
    "    \n",
    "    # Create indicator arrays for whether or not certain covariates have constraints on them\n",
    "    is_convex_covariate = np.zeros(X_design.shape[1]).astype(bool)\n",
    "    if convex_covariates is not None:\n",
    "        is_convex_covariate[convex_covariates] = True\n",
    "    \n",
    "    is_concave_covariate = np.zeros(X_design.shape[1]).astype(bool)\n",
    "    if concave_covariates is not None:\n",
    "        is_concave_covariate[concave_covariates] = True\n",
    "    \n",
    "    is_variation_constrained_covariate = np.zeros(X_design.shape[1]).astype(bool)\n",
    "    if variation_constrained_covariates is not None:\n",
    "        is_variation_constrained_covariate[variation_constrained_covariates] = True\n",
    "    \n",
    "    # Create dummy colnames if colnames not provided\n",
    "    if colnames is None:\n",
    "        colnames = np.array([f\"x{i + 1}\" for i in range(X_eval.shape[1])])\n",
    "    \n",
    "    # Remove linear covariates from matrix. Add back at the end\n",
    "    if extra_linear_covariates is not None:\n",
    "        \n",
    "        # Hold onto extra linear features and scale factors for our final LASSO matrix\n",
    "        lasso_matrix_extra_linear = X_eval[:, extra_linear_covariates]\n",
    "        basis_scale_factors_extra_linear = max_vals[extra_linear_covariates] - min_vals[extra_linear_covariates]\n",
    "        linear_colnames = colnames[extra_linear_covariates]\n",
    "        \n",
    "        # Remove extra linear features from hinge/basis procedures\n",
    "        keep_indices = [\n",
    "            i for i in range(X_design.shape[1]) if i not in extra_linear_covariates\n",
    "        ]\n",
    "\n",
    "        X_eval = X_eval[:, keep_indices]\n",
    "        X_design = X_design[:, keep_indices]\n",
    "        max_vals = max_vals[keep_indices]\n",
    "        min_vals = min_vals[keep_indices]\n",
    "        if number_of_bins is not None: number_of_bins = number_of_bins[keep_indices]\n",
    "        is_convex_covariate = is_convex_covariate[keep_indices]\n",
    "        is_concave_covariate = is_concave_covariate[keep_indices]\n",
    "        is_variation_constrained_covariate = is_variation_constrained_covariate[keep_indices]\n",
    "        colnames = colnames[keep_indices]\n",
    "    \n",
    "    # Retrieve unique entries of each column and check for columns with only zero values\n",
    "    d = X_design.shape[1]\n",
    "    unique_entries = get_unique_column_entries(X_design, 'tcmars', number_of_bins)\n",
    "    for col_idx in range(d):\n",
    "        if len(unique_entries[col_idx]) == 0:\n",
    "            raise ValueError(f\"All the values of \\'column {col_idx}\\' are zero. Please remove that variable.\")\n",
    "    \n",
    "    # Retrieve lasso matrix unlabeled\n",
    "    lasso_matrix_rows = []\n",
    "    for row_idx in range(X_eval.shape[0]):\n",
    "        \n",
    "        # Compute hinges for each row\n",
    "        hinges = []\n",
    "        hinges_orders = []\n",
    "        \n",
    "        for col_idx in range(d):\n",
    "            col_hinges = np.concatenate(([1], compute_hinge(X_eval[row_idx, col_idx] - unique_entries[col_idx])))\n",
    "            hinges.append(col_hinges)\n",
    "            \n",
    "            col_hinges_orders = np.concatenate(([0], np.ones(len(unique_entries[col_idx]), dtype=int)))\n",
    "            hinges_orders.append(col_hinges_orders)\n",
    "\n",
    "        # if is_basis_drop_possible:\n",
    "        is_positive_hinge = []\n",
    "        is_negative_hinge = []\n",
    "        is_variation_constrained_hinge = []\n",
    "\n",
    "        for col_idx in range(d):\n",
    "            num_unique_col = len(unique_entries[col_idx])\n",
    "\n",
    "            if is_convex_covariate[col_idx]:\n",
    "                pos_hinges = np.concatenate(([False, False], np.ones(num_unique_col-1, dtype=bool)))\n",
    "            else:\n",
    "                pos_hinges = np.zeros(num_unique_col + 1, dtype=bool)\n",
    "\n",
    "            if is_concave_covariate[col_idx]:\n",
    "                neg_hinges = np.concatenate(([False, False], np.ones(num_unique_col-1, dtype=bool)))\n",
    "            else:\n",
    "                neg_hinges = np.zeros(num_unique_col + 1, dtype=bool)\n",
    "\n",
    "            if is_variation_constrained_covariate[col_idx]:\n",
    "                var_hinges = np.concatenate(([False, False], np.ones(num_unique_col-1, dtype=bool)))\n",
    "            else:\n",
    "                var_hinges = np.zeros(num_unique_col + 1, dtype=bool)\n",
    "\n",
    "            is_positive_hinge.append(pos_hinges)\n",
    "            is_negative_hinge.append(neg_hinges)\n",
    "            is_variation_constrained_hinge.append(var_hinges)\n",
    "        \n",
    "        # Initialize basis functions\n",
    "        basis = hinges[0]\n",
    "        basis_orders = hinges_orders[0]\n",
    "        \n",
    "        if is_basis_drop_possible:\n",
    "            is_positive_basis = is_positive_hinge[0]\n",
    "            is_negative_basis = is_negative_hinge[0]\n",
    "            is_variation_constrained_basis = is_variation_constrained_hinge[0]\n",
    "        \n",
    "        # Collect basis functions that meet interaction order s (so we can remove them from the pool of bases)\n",
    "        full_order_basis = []\n",
    "        \n",
    "        if d >= 2:\n",
    "            for k in range(1, d):\n",
    "                # Collect and remove basis functions that are already at maximum allowed s\n",
    "                is_full_order = basis_orders == s\n",
    "                full_order_basis.extend(basis[is_full_order])\n",
    "                \n",
    "                basis = basis[~is_full_order]\n",
    "                basis_orders = basis_orders[~is_full_order]\n",
    "                \n",
    "                # Construct new bases functions using old bases and new covariate k, each new basis = old basis * new hinge\n",
    "                basis = np.outer(basis, hinges[k]).flatten()\n",
    "                basis_orders = np.add.outer(basis_orders, hinges_orders[k]).flatten()\n",
    "                \n",
    "                # If we have constraints that may allow us to drop basis, check for possible cases\n",
    "                if is_basis_drop_possible:\n",
    "                    \n",
    "                    # First, remove basis functions that were at max allowed s from constraint indicator arrays\n",
    "                    is_positive_basis = is_positive_basis[~is_full_order]\n",
    "                    is_negative_basis = is_negative_basis[~is_full_order]\n",
    "                    is_variation_constrained_basis = is_variation_constrained_basis[~is_full_order]\n",
    "                    \n",
    "                    # If either old basis or new hinge multiplied in have constraint, new basis has constraint\n",
    "                    is_positive_basis = np.logical_or.outer(\n",
    "                        is_positive_basis, is_positive_hinge[k]\n",
    "                    ).flatten()\n",
    "                    \n",
    "                    is_negative_basis = np.logical_or.outer(\n",
    "                        is_negative_basis, is_negative_hinge[k]\n",
    "                    ).flatten()\n",
    "                    \n",
    "                    is_variation_constrained_basis = np.logical_or.outer(\n",
    "                        is_variation_constrained_basis,\n",
    "                        is_variation_constrained_hinge[k],\n",
    "                    ).flatten()\n",
    "                    \n",
    "                    # Remove bases that both require coefficients to be positive and negative\n",
    "                    is_nonzero = ~(is_positive_basis & is_negative_basis)\n",
    "                    basis = basis[is_nonzero]\n",
    "                    basis_orders = basis_orders[is_nonzero]\n",
    "                    is_positive_basis = is_positive_basis[is_nonzero]\n",
    "                    is_negative_basis = is_negative_basis[is_nonzero]\n",
    "                    is_variation_constrained_basis = is_variation_constrained_basis[is_nonzero]\n",
    "\n",
    "        # After all iterations, our final basis is composed of our remaining non full order bases and our stored full-order bases\n",
    "        basis = np.concatenate((basis, full_order_basis))\n",
    "        lasso_matrix_rows.append(basis)\n",
    "    \n",
    "    # After assembling each row, combine for complete matrix\n",
    "    lasso_matrix = np.vstack(lasso_matrix_rows)\n",
    "    \n",
    "    # Create names for each unique hinge   \n",
    "    hinges_names = []\n",
    "    hinges_scale_factors = []\n",
    "    \n",
    "    for col_idx in range(d):\n",
    "        \n",
    "        # Construct all names for each hinge on a covariate, append to our list of hinge names\n",
    "        names = [\n",
    "            f\"H({colnames[col_idx]}-{scale_back_matrix_entry(entry, max_vals[col_idx], min_vals[col_idx], digits=4)})\"\n",
    "            for entry in unique_entries[col_idx]\n",
    "        ]\n",
    "        names = np.array([\"\"] + names) # add constant term label\n",
    "        hinges_names.append(names)\n",
    "        \n",
    "        scale_factors = np.concatenate(([1.0], np.full(len(unique_entries[col_idx]), 1.0 / (max_vals[col_idx] - min_vals[col_idx]))))\n",
    "        hinges_scale_factors.append(scale_factors)\n",
    "    \n",
    "    '''\n",
    "    Create names for bases \n",
    "    \n",
    "    For hinges_orders, is_positive_hinge, is_negative_hinge, is_variation_constrained_hinge, reuse from previous section on computing bases)\n",
    "    Also track whether or not a basis positive, negative, or variation constrained, and the scale factors\n",
    "    '''\n",
    "    \n",
    "    # Running lists tracking names, orders, constraints, scale factors\n",
    "    basis_names = hinges_names[0]\n",
    "    basis_orders = hinges_orders[0]\n",
    "    is_positive_basis = is_positive_hinge[0]\n",
    "    is_negative_basis = is_negative_hinge[0]\n",
    "    is_variation_constrained_basis = is_variation_constrained_hinge[0]\n",
    "    basis_scale_factors = hinges_scale_factors[0]\n",
    "    \n",
    "    # Lists where we store names, orders, constraints, scale factors, of already full order bases\n",
    "    full_order_basis_names = []\n",
    "    full_order_positive = []\n",
    "    full_order_negative = []\n",
    "    full_order_variation_constrained = []\n",
    "    full_order_scale_factors = []\n",
    "    \n",
    "    if d >= 2:\n",
    "        for k in range(1, d):\n",
    "            # Check for bases that are full order (track indices)\n",
    "            is_full_order = (basis_orders == s)\n",
    "\n",
    "            # Update full order lists\n",
    "            full_order_basis_names.extend(np.array(basis_names)[is_full_order])\n",
    "            full_order_positive.extend(np.array(is_positive_basis)[is_full_order])\n",
    "            full_order_negative.extend(np.array(is_negative_basis)[is_full_order])\n",
    "            full_order_variation_constrained.extend(np.array(is_variation_constrained_basis)[is_full_order])\n",
    "            full_order_scale_factors.extend(np.array(basis_scale_factors)[is_full_order])\n",
    "\n",
    "            # Remove full order bases from running lists\n",
    "            basis_names = basis_names[~is_full_order]\n",
    "            basis_orders = basis_orders[~is_full_order]\n",
    "            is_positive_basis = is_positive_basis[~is_full_order]\n",
    "            is_negative_basis = is_negative_basis[~is_full_order]\n",
    "            is_variation_constrained_basis = is_variation_constrained_basis[~is_full_order]\n",
    "            basis_scale_factors = basis_scale_factors[~is_full_order]\n",
    "\n",
    "            # Update lists with combinations with new covariate\n",
    "\n",
    "            # Note: .astype('object') allows us to add strings by restricting them to the same type (dynamically length strings) instead of '<U15', '<U20', etc. But it may cost efficiency.\n",
    "            basis_names = np.add.outer(basis_names.astype('object'), hinges_names[k].astype('object')).flatten()\n",
    "            basis_orders = np.add.outer(basis_orders, hinges_orders[k]).flatten()\n",
    "            is_positive_basis = np.logical_or.outer(is_positive_basis, is_positive_hinge[k]).flatten()\n",
    "            is_negative_basis = np.logical_or.outer(is_negative_basis, is_negative_hinge[k]).flatten()\n",
    "            is_variation_constrained_basis = np.logical_or.outer(\n",
    "                is_variation_constrained_basis, is_variation_constrained_hinge[k]\n",
    "            ).flatten()\n",
    "            basis_scale_factors = np.multiply.outer(basis_scale_factors, hinges_scale_factors[k]).flatten()\n",
    "\n",
    "            # Drop basis that violate constraints\n",
    "            if is_basis_drop_possible:\n",
    "                is_nonzero = ~(is_positive_basis & is_negative_basis)\n",
    "                basis_names = basis_names[is_nonzero]\n",
    "                basis_orders = basis_orders[is_nonzero]\n",
    "                is_positive_basis = is_positive_basis[is_nonzero]\n",
    "                is_negative_basis = is_negative_basis[is_nonzero]\n",
    "                is_variation_constrained_basis = is_variation_constrained_basis[is_nonzero]\n",
    "                basis_scale_factors = basis_scale_factors[is_nonzero]\n",
    "\n",
    "        # Combine full order lists with final running lists\n",
    "        basis_names = np.concatenate((basis_names, full_order_basis_names))\n",
    "        is_positive_basis = np.concatenate((is_positive_basis, full_order_positive))\n",
    "        is_negative_basis = np.concatenate((is_negative_basis, full_order_negative))\n",
    "        is_variation_constrained_basis = np.concatenate(\n",
    "            (is_variation_constrained_basis, full_order_variation_constrained)\n",
    "        )\n",
    "        basis_scale_factors = np.concatenate((basis_scale_factors, full_order_scale_factors))\n",
    "    \n",
    "    # Substitute the empty string for constant term for the intercept label\n",
    "    basis_names[0] = \"(Intercept)\"\n",
    "    \n",
    "    # Handle extra linear covariates\n",
    "    if extra_linear_covariates is not None:\n",
    "        lasso_matrix = np.hstack((lasso_matrix, lasso_matrix_extra_linear))\n",
    "        is_positive_basis = np.concatenate(\n",
    "            (is_positive_basis, np.zeros(len(extra_linear_covariates), dtype=bool))\n",
    "        )\n",
    "        is_negative_basis = np.concatenate(\n",
    "            (is_negative_basis, np.zeros(len(extra_linear_covariates), dtype=bool))\n",
    "        )\n",
    "        is_variation_constrained_basis = np.concatenate(\n",
    "            (is_variation_constrained_basis, np.zeros(len(extra_linear_covariates), dtype=bool))\n",
    "        )\n",
    "        basis_scale_factors = np.concatenate((basis_scale_factors, basis_scale_factors_extra_linear))\n",
    "        \n",
    "        basis_names = np.concatenate((basis_names, linear_colnames))\n",
    "    \n",
    "    # Determine which basis functions to include, if provided use is_included_basis, else include all non-zero columns\n",
    "    if is_included_basis is None:\n",
    "        is_included_basis = np.any(lasso_matrix != 0, axis=0)\n",
    "    else:\n",
    "        if len(is_included_basis) != lasso_matrix.shape[1]:\n",
    "            raise ValueError('`length(is_included_basis)` must be equal to the number of columns of the LASSO matrix.')\n",
    "    \n",
    "    # Include only specified columns\n",
    "    included_indices = np.where(is_included_basis)[0]\n",
    "    \n",
    "    lasso_matrix = lasso_matrix[:, included_indices]\n",
    "    is_positive_basis = is_positive_basis[included_indices]\n",
    "    is_negative_basis = is_negative_basis[included_indices]\n",
    "    is_variation_constrained_basis = is_variation_constrained_basis[included_indices]\n",
    "    basis_scale_factors = basis_scale_factors[included_indices]\n",
    "    basis_names = basis_names[included_indices]\n",
    "    \n",
    "    return {\n",
    "        'lasso_matrix': lasso_matrix,\n",
    "        'colnames': basis_names,\n",
    "        'is_positive_basis': is_positive_basis,\n",
    "        'is_negative_basis': is_negative_basis,\n",
    "        'is_variation_constrained_basis': is_variation_constrained_basis,\n",
    "        'basis_scale_factors': basis_scale_factors,\n",
    "        'is_included_basis': is_included_basis\n",
    "    }\n",
    "        \n",
    "    "
   ]
  },
  {
   "cell_type": "code",
   "execution_count": 311,
   "id": "c5216aac-6b23-4754-aecd-a9af69173961",
   "metadata": {
    "tags": []
   },
   "outputs": [],
   "source": [
    "# Testing\n",
    "X_design_arr = X_design.values\n",
    "X_eval_arr = X_design_arr.copy()\n",
    "max_vals = np.max(X_design_arr, axis = 0)\n",
    "min_vals = np.min(X_design_arr, axis = 0)\n",
    "s = 2\n",
    "number_of_bins = np.array([9, 2, 5])\n",
    "concave_covariates = [0, 1]\n",
    "convex_covariates = [1, 2]\n",
    "variation_constrained_covariates = [2]\n",
    "extra_linear_covariates = [1]\n",
    "is_included_basis = None"
   ]
  },
  {
   "cell_type": "code",
   "execution_count": 312,
   "id": "70e5b001-ba34-4cab-a78a-f9221877e830",
   "metadata": {
    "tags": []
   },
   "outputs": [],
   "source": [
    "output = get_lasso_matrix_tcmars(X_eval_arr,\n",
    "                            X_design_arr,\n",
    "                            max_vals,\n",
    "                            min_vals,\n",
    "                            s,\n",
    "                            number_of_bins,\n",
    "                            concave_covariates,\n",
    "                            convex_covariates,\n",
    "                            variation_constrained_covariates,\n",
    "                            extra_linear_covariates,\n",
    "                            is_included_basis\n",
    "                            )"
   ]
  },
  {
   "cell_type": "code",
   "execution_count": 313,
   "id": "c8135211-aa5e-4f10-b054-8d1b20f26201",
   "metadata": {
    "tags": []
   },
   "outputs": [
    {
     "data": {
      "text/plain": [
       "(100, 29)"
      ]
     },
     "execution_count": 313,
     "metadata": {},
     "output_type": "execute_result"
    }
   ],
   "source": [
    "output[\"lasso_matrix\"].shape"
   ]
  },
  {
   "cell_type": "markdown",
   "id": "6d1f13a3-f131-4a5e-97d0-30e0255c5e1d",
   "metadata": {},
   "source": [
    "## `solve_contrained_lasso.R`"
   ]
  },
  {
   "cell_type": "code",
   "execution_count": 185,
   "id": "6a032b1b-50a7-4426-82a5-8186dee909f9",
   "metadata": {
    "tags": []
   },
   "outputs": [],
   "source": [
    "def solve_constrained_lasso(y, M, V=np.inf,\n",
    "                            is_sum_constrained_component=None,\n",
    "                            is_positive_component=None,\n",
    "                            is_negative_component=None):\n",
    "    n, p = M.shape\n",
    "\n",
    "    if is_sum_constrained_component is None:\n",
    "        is_sum_constrained_component = np.full(p, True, dtype=bool)\n",
    "    if is_positive_component is None:\n",
    "        is_positive_component = np.full(p, False, dtype=bool)\n",
    "    if is_negative_component is None:\n",
    "        is_negative_component = np.full(p, False, dtype=bool)\n",
    "\n",
    "    # Define cvxpy variable\n",
    "    x = cp.Variable(p)\n",
    "\n",
    "    # Define objective function\n",
    "    objective = cp.Minimize(cp.sum_squares(y - M @ x))\n",
    "\n",
    "    # Begin composing list of constraints\n",
    "    constraints = []\n",
    "\n",
    "    # Sign constraints for x\n",
    "    for i in range(p):\n",
    "        if is_positive_component[i]:\n",
    "            constraints.append(x[i] >= 0)\n",
    "        if is_negative_component[i]:\n",
    "            constraints.append(x[i] <= 0)\n",
    "\n",
    "    # Regularization constraint: sum |x_i| <= V if V is finite\n",
    "    if np.isfinite(V):\n",
    "        indices = np.where(is_sum_constrained_component)[0]\n",
    "        constraints.append(cp.norm1(x[indices]) <= V)\n",
    "\n",
    "    # Create problem\n",
    "    prob = cp.Problem(objective, constraints)\n",
    "\n",
    "    # Solve problem\n",
    "    prob.solve(solver=cp.MOSEK)\n",
    "\n",
    "    if prob.status not in [\"optimal\", \"optimal_inaccurate\"]:\n",
    "        raise ValueError(\"Optimization did not converge.\")\n",
    "\n",
    "    x_value = x.value\n",
    "\n",
    "    return x_value\n"
   ]
  },
  {
   "cell_type": "code",
   "execution_count": 186,
   "id": "2776b8d3",
   "metadata": {
    "tags": []
   },
   "outputs": [
    {
     "data": {
      "text/plain": [
       "array(['(Intercept)', 'H(x3-0.006952)', 'H(x3-0.01365)', ...,\n",
       "       'H(x1-0.9771)H(x2-0.1163)', 'H(x1-0.9771)H(x2-0.1187)',\n",
       "       'H(x1-0.9771)H(x2-0.1247)'], dtype=object)"
      ]
     },
     "execution_count": 186,
     "metadata": {},
     "output_type": "execute_result"
    }
   ],
   "source": [
    "output[\"colnames\"]"
   ]
  },
  {
   "cell_type": "code",
   "execution_count": 189,
   "id": "63af08ee-2c2b-4208-9563-9eef59dfba3e",
   "metadata": {
    "tags": []
   },
   "outputs": [
    {
     "data": {
      "text/plain": [
       "array([-0.07151556, -0.39028913, -0.        , ..., -0.        ,\n",
       "       -0.        , -0.        ])"
      ]
     },
     "execution_count": 189,
     "metadata": {},
     "output_type": "execute_result"
    }
   ],
   "source": [
    "coefs = solve_constrained_lasso(np.array(y), output[\"lasso_matrix\"], 1)\n",
    "\n",
    "threshold = 1e-8\n",
    "thresholded_coefs = coefs * (abs(coefs) > threshold)\n",
    "thresholded_coefs"
   ]
  },
  {
   "cell_type": "code",
   "execution_count": 190,
   "id": "d84fbc5b",
   "metadata": {
    "tags": []
   },
   "outputs": [
    {
     "data": {
      "text/plain": [
       "array(['(Intercept)', 'H(x3-0.006952)', 'H(x2-0.005062)'], dtype=object)"
      ]
     },
     "execution_count": 190,
     "metadata": {},
     "output_type": "execute_result"
    }
   ],
   "source": [
    "output[\"colnames\"][thresholded_coefs != 0]"
   ]
  },
  {
   "cell_type": "code",
   "execution_count": 167,
   "id": "e723c8ee-057b-4469-ba7d-a313d1d81997",
   "metadata": {
    "tags": []
   },
   "outputs": [
    {
     "data": {
      "text/plain": [
       "0.13297887627116312"
      ]
     },
     "execution_count": 167,
     "metadata": {},
     "output_type": "execute_result"
    }
   ],
   "source": [
    "np.sqrt(np.mean((y - (output[\"lasso_matrix\"] @ coefs))**2))"
   ]
  },
  {
   "cell_type": "code",
   "execution_count": null,
   "id": "d5227911-4803-41d1-aaf6-8c2e1a6999f4",
   "metadata": {},
   "outputs": [],
   "source": []
  }
 ],
 "metadata": {
  "kernelspec": {
   "display_name": "Python 3 (ipykernel)",
   "language": "python",
   "name": "python3"
  },
  "language_info": {
   "codemirror_mode": {
    "name": "ipython",
    "version": 3
   },
   "file_extension": ".py",
   "mimetype": "text/x-python",
   "name": "python",
   "nbconvert_exporter": "python",
   "pygments_lexer": "ipython3",
   "version": "3.11.2"
  }
 },
 "nbformat": 4,
 "nbformat_minor": 5
}
